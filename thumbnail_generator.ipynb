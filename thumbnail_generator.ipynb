{
  "nbformat": 4,
  "nbformat_minor": 0,
  "metadata": {
    "colab": {
      "provenance": []
    },
    "kernelspec": {
      "name": "python3",
      "display_name": "Python 3"
    },
    "language_info": {
      "name": "python"
    }
  },
  "cells": [
    {
      "cell_type": "markdown",
      "source": [
        "First, mount google drive"
      ],
      "metadata": {
        "id": "ua98cnVI05fj"
      }
    },
    {
      "cell_type": "code",
      "execution_count": null,
      "metadata": {
        "id": "dy82SLkwy78r"
      },
      "outputs": [],
      "source": [
        "from google.colab import drive\n",
        "drive.mount('/content/drive')"
      ]
    },
    {
      "cell_type": "markdown",
      "source": [
        "Change directory"
      ],
      "metadata": {
        "id": "nA-mTbAj08D5"
      }
    },
    {
      "cell_type": "code",
      "source": [
        "import os\n",
        "os.chdir(\"./drive/MyDrive/NUT-Thumbnail-Generator\")"
      ],
      "metadata": {
        "id": "SIx_glM3zdgh"
      },
      "execution_count": null,
      "outputs": []
    },
    {
      "cell_type": "markdown",
      "source": [
        "Edit vods.csv in sheets with the thumbnails you want to generate, then run the below code"
      ],
      "metadata": {
        "id": "ITgpF8qq0-et"
      }
    },
    {
      "cell_type": "code",
      "source": [
        "# Imports\n",
        "import os\n",
        "import csv\n",
        "import json\n",
        "from PIL import Image, ImageDraw, ImageFont, ImageFilter, ImageOps\n",
        "\n",
        "def format_character(str):\n",
        "    return str.replace('.', '').replace('-','').replace('&', \"and\").lower()\n",
        "\n",
        "\n",
        "# Read config json\n",
        "with open(\"config.json\") as load_config:\n",
        "    config = json.load(load_config)\n",
        "BACKGROUND_PATH = config[\"background_path\"]\n",
        "LOGO_PATH = config['logo_path']\n",
        "COLOR_RECTANGLE = config['rect_color']\n",
        "COLOR_TRIANGLE = config['tri_color']\n",
        "font = ImageFont.truetype(config['font'], config['font_size'])\n",
        "\n",
        "# Import a CSV with\n",
        "# Player 1 Name (Ex. B3nan)\n",
        "# Player 2 Name (Ex. Rrs) \n",
        "# Player 1 Characters (Ex. Pichu)\n",
        "# Player 2 Character (Ex. Mario, Diddy Kong)\n",
        "    # Note: Insert first character in graphic, rest in title\n",
        "# Event Round (Ex. Winner's Final)\n",
        "# Event (Ex. Ultimate Singles)\n",
        "with open('vods.csv', newline='') as csv_file:\n",
        "    csv_reader = csv.reader(csv_file)\n",
        "    next(csv_reader) #Skip first line\n",
        "    data = list(csv_reader)\n",
        "     \n",
        "    # Initialize data\n",
        "    tournament = []\n",
        "    event = []\n",
        "    bracket_round = []\n",
        "    player_1_name = []\n",
        "    player_2_name = []\n",
        "    player_1_character = []\n",
        "    player_2_character = []\n",
        "    \n",
        "    # Load data from CSV\n",
        "    for line in data:\n",
        "        tournament.append(line[0])\n",
        "        event.append(line[1])\n",
        "        bracket_round.append(line[2])\n",
        "        player_1_name.append(line[3])\n",
        "        player_2_name.append(line[4])\n",
        "        player_1_character.append(line[5])\n",
        "        player_2_character.append(line[6])\n",
        "\n",
        "for num in range(len(tournament)):\n",
        "    print(\"Generating \" + str(num) + \"/\" + str(len(tournament) - 1))\n",
        "    background = Image.open(BACKGROUND_PATH).resize((1280, 720))\n",
        "    logo = Image.open(LOGO_PATH).resize((200, 200))\n",
        "    \n",
        "    # Read character murals\n",
        "    character_1 = Image.open(r\"P1_Murals/{}.png\".format(format_character(player_1_character[num].split(',')[0])))\n",
        "    character_2 = Image.open(r\"P2_Murals/{}.png\".format(format_character(player_2_character[num].split(',')[0])))\n",
        "    \n",
        "    # Overlay character\n",
        "    background.paste(character_1, (0, 0), character_1)\n",
        "    background.paste(character_2, (0, 0), character_2)\n",
        "    \n",
        "    # Create shapes\n",
        "    triangle_ul = [(0, 0), (0, 27), (640, 0)]\n",
        "    triangle_ur = [(640, 0), (640, 27), (1280, 0)]\n",
        "    triangle_ll = [(0, 720), (640, 720), (640, 693)]\n",
        "    triangle_lr = [(640, 720), (1280, 720), (1280, 693)]\n",
        "    \n",
        "    rectangle_ul = [(0, 27), (0, 107), (640, 80), (640, 0)]\n",
        "    rectangle_ur = [(640, 27), (640, 107), (1280, 80), (1280, 0)]\n",
        "    rectangle_ll = [(0, 640), (0, 720), (640, 693), (640, 613)]\n",
        "    rectangle_lr = [(640, 640), (640, 720), (1280, 693), (1280, 613)]\n",
        "    \n",
        "    # Draw shapes\n",
        "    ImageDraw.Draw(background).polygon(triangle_ul, fill=COLOR_TRIANGLE, outline=COLOR_TRIANGLE)\n",
        "    ImageDraw.Draw(background).polygon(triangle_ur, fill=COLOR_TRIANGLE, outline=COLOR_TRIANGLE)\n",
        "    ImageDraw.Draw(background).polygon(triangle_ll, fill=COLOR_TRIANGLE, outline=COLOR_TRIANGLE)\n",
        "    ImageDraw.Draw(background).polygon(triangle_lr, fill=COLOR_TRIANGLE, outline=COLOR_TRIANGLE)\n",
        "    \n",
        "    ImageDraw.Draw(background).polygon(rectangle_ul, fill=COLOR_RECTANGLE, outline=COLOR_RECTANGLE)\n",
        "    ImageDraw.Draw(background).polygon(rectangle_ur, fill=COLOR_RECTANGLE, outline=COLOR_RECTANGLE)\n",
        "    ImageDraw.Draw(background).polygon(rectangle_ll, fill=COLOR_RECTANGLE, outline=COLOR_RECTANGLE)\n",
        "    ImageDraw.Draw(background).polygon(rectangle_lr, fill=COLOR_RECTANGLE, outline=COLOR_RECTANGLE)\n",
        "    \n",
        "    # Create the text layer\n",
        "    text_layer = Image.new('L', (1280, 720))\n",
        "    draw = ImageDraw.Draw(text_layer)\n",
        "    \n",
        "    p1_width = font.getsize(player_1_name[num].upper())[0]\n",
        "    draw.text(((320 - (p1_width / 2)), -13), player_1_name[num].upper(), font=font, fill=255)\n",
        "\n",
        "    p2_width = font.getsize(player_2_name[num].upper())[0]\n",
        "    draw.text(((960 - (p2_width / 2)), 13), player_2_name[num].upper(), font=font, fill=255)\n",
        "    \n",
        "    bracket_round_width = font.getsize(bracket_round[num].upper())[0]\n",
        "    draw.text(((320 - (bracket_round_width / 2)), 600), bracket_round[num].upper(), font=font, fill=255)\n",
        "    \n",
        "    event_width = font.getsize(event[num].upper())[0]\n",
        "    draw.text(((960 - (event_width / 2)), 630), event[num].upper(), font=font, fill=255)\n",
        "    \n",
        "    # Rotate text\n",
        "    rotated_text_layer = text_layer.rotate(2.41573322)\n",
        "    \n",
        "    # Apply text to background\n",
        "    # TODO: Support text colors other than black\n",
        "    background.paste(ImageOps.colorize(rotated_text_layer, (0,0,0), (255, 255, 255)), (0,0),  rotated_text_layer)\n",
        "    \n",
        "    # Apply smoothing filter\n",
        "    # background = background.filter(ImageFilter.SMOOTH)\n",
        "    \n",
        "    # Add Logo\n",
        "    background.paste(logo, (540, 260), logo)\n",
        "    \n",
        "    # If this is a unique tournament, create a new folder for that tournament\n",
        "    if (not (os.path.exists(tournament[num]))):\n",
        "        os.makedirs(tournament[num])\n",
        "    \n",
        "    #Save Thumbnail with formatted name\n",
        "    background.save(\"{}/{} - {} ({}) vs {} ({}) [{}].png\".format(tournament[num], tournament[num], player_1_name[num],\n",
        "                                                              player_1_character[num], player_2_name[num],\n",
        "                                                              player_2_character[num], bracket_round[num]))\n",
        "    # background.show()"
      ],
      "metadata": {
        "colab": {
          "base_uri": "https://localhost:8080/"
        },
        "id": "dR4IJ9QszHg4",
        "outputId": "35c818e9-3a55-4868-e7f0-e692ba4635b1"
      },
      "execution_count": 8,
      "outputs": [
        {
          "output_type": "stream",
          "name": "stdout",
          "text": [
            "Generating 0/14\n",
            "Generating 1/14\n",
            "Generating 2/14\n",
            "Generating 3/14\n",
            "Generating 4/14\n",
            "Generating 5/14\n",
            "Generating 6/14\n",
            "Generating 7/14\n",
            "Generating 8/14\n",
            "Generating 9/14\n",
            "Generating 10/14\n",
            "Generating 11/14\n",
            "Generating 12/14\n",
            "Generating 13/14\n",
            "Generating 14/14\n"
          ]
        }
      ]
    }
  ]
}